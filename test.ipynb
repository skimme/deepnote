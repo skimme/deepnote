{
 "metadata": {
  "language_info": {
   "codemirror_mode": {
    "name": "ipython",
    "version": 3
   },
   "file_extension": ".py",
   "mimetype": "text/x-python",
   "name": "python",
   "nbconvert_exporter": "python",
   "pygments_lexer": "ipython3",
   "version": "3.8.8"
  },
  "orig_nbformat": 4,
  "kernelspec": {
   "name": "python3",
   "display_name": "Python 3.8.8 64-bit ('d2l': conda)"
  },
  "interpreter": {
   "hash": "c2b9eba8fa8a75b5f19bcff519fcf4bf8293d9770a39cc22ab9247f7858d6813"
  }
 },
 "nbformat": 4,
 "nbformat_minor": 2,
 "cells": [
  {
   "cell_type": "code",
   "execution_count": 1,
   "metadata": {},
   "outputs": [],
   "source": [
    "import torch"
   ]
  },
  {
   "cell_type": "code",
   "execution_count": 2,
   "metadata": {},
   "outputs": [],
   "source": [
    "chekpoint = torch.load(\"wandb/run-20210611_214552-1k0euswz/files/kaggle_leaves/1k0euswz/checkpoints/epoch=27-step=9659.ckpt\")"
   ]
  },
  {
   "cell_type": "code",
   "execution_count": 9,
   "metadata": {},
   "outputs": [
    {
     "output_type": "execute_result",
     "data": {
      "text/plain": [
       "dict_keys(['epoch', 'global_step', 'pytorch-lightning_version', 'state_dict', 'callbacks', 'optimizer_states', 'lr_schedulers'])"
      ]
     },
     "metadata": {},
     "execution_count": 9
    }
   ],
   "source": [
    "chekpoint.keys()\n"
   ]
  },
  {
   "cell_type": "code",
   "execution_count": 11,
   "metadata": {},
   "outputs": [
    {
     "output_type": "execute_result",
     "data": {
      "text/plain": [
       "odict_keys(['model.conv1.weight', 'model.bn1.weight', 'model.bn1.bias', 'model.bn1.running_mean', 'model.bn1.running_var', 'model.bn1.num_batches_tracked', 'model.layer1.0.conv1.weight', 'model.layer1.0.bn1.weight', 'model.layer1.0.bn1.bias', 'model.layer1.0.bn1.running_mean', 'model.layer1.0.bn1.running_var', 'model.layer1.0.bn1.num_batches_tracked', 'model.layer1.0.conv2.weight', 'model.layer1.0.bn2.weight', 'model.layer1.0.bn2.bias', 'model.layer1.0.bn2.running_mean', 'model.layer1.0.bn2.running_var', 'model.layer1.0.bn2.num_batches_tracked', 'model.layer1.1.conv1.weight', 'model.layer1.1.bn1.weight', 'model.layer1.1.bn1.bias', 'model.layer1.1.bn1.running_mean', 'model.layer1.1.bn1.running_var', 'model.layer1.1.bn1.num_batches_tracked', 'model.layer1.1.conv2.weight', 'model.layer1.1.bn2.weight', 'model.layer1.1.bn2.bias', 'model.layer1.1.bn2.running_mean', 'model.layer1.1.bn2.running_var', 'model.layer1.1.bn2.num_batches_tracked', 'model.layer1.2.conv1.weight', 'model.layer1.2.bn1.weight', 'model.layer1.2.bn1.bias', 'model.layer1.2.bn1.running_mean', 'model.layer1.2.bn1.running_var', 'model.layer1.2.bn1.num_batches_tracked', 'model.layer1.2.conv2.weight', 'model.layer1.2.bn2.weight', 'model.layer1.2.bn2.bias', 'model.layer1.2.bn2.running_mean', 'model.layer1.2.bn2.running_var', 'model.layer1.2.bn2.num_batches_tracked', 'model.layer2.0.conv1.weight', 'model.layer2.0.bn1.weight', 'model.layer2.0.bn1.bias', 'model.layer2.0.bn1.running_mean', 'model.layer2.0.bn1.running_var', 'model.layer2.0.bn1.num_batches_tracked', 'model.layer2.0.conv2.weight', 'model.layer2.0.bn2.weight', 'model.layer2.0.bn2.bias', 'model.layer2.0.bn2.running_mean', 'model.layer2.0.bn2.running_var', 'model.layer2.0.bn2.num_batches_tracked', 'model.layer2.0.downsample.0.weight', 'model.layer2.0.downsample.1.weight', 'model.layer2.0.downsample.1.bias', 'model.layer2.0.downsample.1.running_mean', 'model.layer2.0.downsample.1.running_var', 'model.layer2.0.downsample.1.num_batches_tracked', 'model.layer2.1.conv1.weight', 'model.layer2.1.bn1.weight', 'model.layer2.1.bn1.bias', 'model.layer2.1.bn1.running_mean', 'model.layer2.1.bn1.running_var', 'model.layer2.1.bn1.num_batches_tracked', 'model.layer2.1.conv2.weight', 'model.layer2.1.bn2.weight', 'model.layer2.1.bn2.bias', 'model.layer2.1.bn2.running_mean', 'model.layer2.1.bn2.running_var', 'model.layer2.1.bn2.num_batches_tracked', 'model.layer2.2.conv1.weight', 'model.layer2.2.bn1.weight', 'model.layer2.2.bn1.bias', 'model.layer2.2.bn1.running_mean', 'model.layer2.2.bn1.running_var', 'model.layer2.2.bn1.num_batches_tracked', 'model.layer2.2.conv2.weight', 'model.layer2.2.bn2.weight', 'model.layer2.2.bn2.bias', 'model.layer2.2.bn2.running_mean', 'model.layer2.2.bn2.running_var', 'model.layer2.2.bn2.num_batches_tracked', 'model.layer2.3.conv1.weight', 'model.layer2.3.bn1.weight', 'model.layer2.3.bn1.bias', 'model.layer2.3.bn1.running_mean', 'model.layer2.3.bn1.running_var', 'model.layer2.3.bn1.num_batches_tracked', 'model.layer2.3.conv2.weight', 'model.layer2.3.bn2.weight', 'model.layer2.3.bn2.bias', 'model.layer2.3.bn2.running_mean', 'model.layer2.3.bn2.running_var', 'model.layer2.3.bn2.num_batches_tracked', 'model.layer3.0.conv1.weight', 'model.layer3.0.bn1.weight', 'model.layer3.0.bn1.bias', 'model.layer3.0.bn1.running_mean', 'model.layer3.0.bn1.running_var', 'model.layer3.0.bn1.num_batches_tracked', 'model.layer3.0.conv2.weight', 'model.layer3.0.bn2.weight', 'model.layer3.0.bn2.bias', 'model.layer3.0.bn2.running_mean', 'model.layer3.0.bn2.running_var', 'model.layer3.0.bn2.num_batches_tracked', 'model.layer3.0.downsample.0.weight', 'model.layer3.0.downsample.1.weight', 'model.layer3.0.downsample.1.bias', 'model.layer3.0.downsample.1.running_mean', 'model.layer3.0.downsample.1.running_var', 'model.layer3.0.downsample.1.num_batches_tracked', 'model.layer3.1.conv1.weight', 'model.layer3.1.bn1.weight', 'model.layer3.1.bn1.bias', 'model.layer3.1.bn1.running_mean', 'model.layer3.1.bn1.running_var', 'model.layer3.1.bn1.num_batches_tracked', 'model.layer3.1.conv2.weight', 'model.layer3.1.bn2.weight', 'model.layer3.1.bn2.bias', 'model.layer3.1.bn2.running_mean', 'model.layer3.1.bn2.running_var', 'model.layer3.1.bn2.num_batches_tracked', 'model.layer3.2.conv1.weight', 'model.layer3.2.bn1.weight', 'model.layer3.2.bn1.bias', 'model.layer3.2.bn1.running_mean', 'model.layer3.2.bn1.running_var', 'model.layer3.2.bn1.num_batches_tracked', 'model.layer3.2.conv2.weight', 'model.layer3.2.bn2.weight', 'model.layer3.2.bn2.bias', 'model.layer3.2.bn2.running_mean', 'model.layer3.2.bn2.running_var', 'model.layer3.2.bn2.num_batches_tracked', 'model.layer3.3.conv1.weight', 'model.layer3.3.bn1.weight', 'model.layer3.3.bn1.bias', 'model.layer3.3.bn1.running_mean', 'model.layer3.3.bn1.running_var', 'model.layer3.3.bn1.num_batches_tracked', 'model.layer3.3.conv2.weight', 'model.layer3.3.bn2.weight', 'model.layer3.3.bn2.bias', 'model.layer3.3.bn2.running_mean', 'model.layer3.3.bn2.running_var', 'model.layer3.3.bn2.num_batches_tracked', 'model.layer3.4.conv1.weight', 'model.layer3.4.bn1.weight', 'model.layer3.4.bn1.bias', 'model.layer3.4.bn1.running_mean', 'model.layer3.4.bn1.running_var', 'model.layer3.4.bn1.num_batches_tracked', 'model.layer3.4.conv2.weight', 'model.layer3.4.bn2.weight', 'model.layer3.4.bn2.bias', 'model.layer3.4.bn2.running_mean', 'model.layer3.4.bn2.running_var', 'model.layer3.4.bn2.num_batches_tracked', 'model.layer3.5.conv1.weight', 'model.layer3.5.bn1.weight', 'model.layer3.5.bn1.bias', 'model.layer3.5.bn1.running_mean', 'model.layer3.5.bn1.running_var', 'model.layer3.5.bn1.num_batches_tracked', 'model.layer3.5.conv2.weight', 'model.layer3.5.bn2.weight', 'model.layer3.5.bn2.bias', 'model.layer3.5.bn2.running_mean', 'model.layer3.5.bn2.running_var', 'model.layer3.5.bn2.num_batches_tracked', 'model.layer4.0.conv1.weight', 'model.layer4.0.bn1.weight', 'model.layer4.0.bn1.bias', 'model.layer4.0.bn1.running_mean', 'model.layer4.0.bn1.running_var', 'model.layer4.0.bn1.num_batches_tracked', 'model.layer4.0.conv2.weight', 'model.layer4.0.bn2.weight', 'model.layer4.0.bn2.bias', 'model.layer4.0.bn2.running_mean', 'model.layer4.0.bn2.running_var', 'model.layer4.0.bn2.num_batches_tracked', 'model.layer4.0.downsample.0.weight', 'model.layer4.0.downsample.1.weight', 'model.layer4.0.downsample.1.bias', 'model.layer4.0.downsample.1.running_mean', 'model.layer4.0.downsample.1.running_var', 'model.layer4.0.downsample.1.num_batches_tracked', 'model.layer4.1.conv1.weight', 'model.layer4.1.bn1.weight', 'model.layer4.1.bn1.bias', 'model.layer4.1.bn1.running_mean', 'model.layer4.1.bn1.running_var', 'model.layer4.1.bn1.num_batches_tracked', 'model.layer4.1.conv2.weight', 'model.layer4.1.bn2.weight', 'model.layer4.1.bn2.bias', 'model.layer4.1.bn2.running_mean', 'model.layer4.1.bn2.running_var', 'model.layer4.1.bn2.num_batches_tracked', 'model.layer4.2.conv1.weight', 'model.layer4.2.bn1.weight', 'model.layer4.2.bn1.bias', 'model.layer4.2.bn1.running_mean', 'model.layer4.2.bn1.running_var', 'model.layer4.2.bn1.num_batches_tracked', 'model.layer4.2.conv2.weight', 'model.layer4.2.bn2.weight', 'model.layer4.2.bn2.bias', 'model.layer4.2.bn2.running_mean', 'model.layer4.2.bn2.running_var', 'model.layer4.2.bn2.num_batches_tracked', 'model.fc.weight', 'model.fc.bias'])"
      ]
     },
     "metadata": {},
     "execution_count": 11
    }
   ],
   "source": [
    "chekpoint[\"state_dict\"].keys()"
   ]
  }
 ]
}